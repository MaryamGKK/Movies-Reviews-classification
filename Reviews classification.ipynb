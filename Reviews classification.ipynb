{
 "cells": [
  {
   "cell_type": "code",
   "execution_count": 1,
   "metadata": {},
   "outputs": [
    {
     "name": "stderr",
     "output_type": "stream",
     "text": [
      "[nltk_data] Downloading package stopwords to\n",
      "[nltk_data]     C:\\Users\\marya\\AppData\\Roaming\\nltk_data...\n",
      "[nltk_data]   Package stopwords is already up-to-date!\n"
     ]
    }
   ],
   "source": [
    "import re\n",
    "from sklearn.datasets import load_files\n",
    "from nltk.corpus import stopwords\n",
    "from nltk.stem import WordNetLemmatizer\n",
    "from sklearn.feature_extraction.text import TfidfVectorizer\n",
    "from sklearn.model_selection import train_test_split\n",
    "from sklearn.ensemble import RandomForestClassifier\n",
    "from sklearn.metrics import accuracy_score, confusion_matrix, classification_report\n",
    "from sklearn.linear_model import LogisticRegression\n",
    "import nltk\n",
    "nltk.download('stopwords')\n",
    "import matplotlib.pyplot as plt\n",
    "import numpy as np\n",
    "import pandas as pd\n",
    "figSize = (10,8)\n",
    "import seaborn as sns"
   ]
  },
  {
   "cell_type": "markdown",
   "metadata": {},
   "source": [
    "# Utility functions to clean text"
   ]
  },
  {
   "cell_type": "code",
   "execution_count": 2,
   "metadata": {},
   "outputs": [],
   "source": [
    "def removeSpecialChars(sen):\n",
    "    theSentence = re.sub(r'\\W', ' ', str(sen))\n",
    "    return theSentence"
   ]
  },
  {
   "cell_type": "code",
   "execution_count": 3,
   "metadata": {},
   "outputs": [],
   "source": [
    "def removeSingleChars(sen):\n",
    "    theSentence = re.sub(r'\\s+[a-zA-Z]\\s+', ' ', sen)\n",
    "    theSentence = re.sub(r'\\^[a-zA-Z]\\s+', ' ', theSentence) #remove from the start\n",
    "    return theSentence"
   ]
  },
  {
   "cell_type": "code",
   "execution_count": 4,
   "metadata": {},
   "outputs": [],
   "source": [
    "def substitutingSpaces(sen):\n",
    "    theSentence = re.sub(r'\\s+', ' ', sen, flags=re.I)\n",
    "    return theSentence"
   ]
  },
  {
   "cell_type": "code",
   "execution_count": 5,
   "metadata": {},
   "outputs": [],
   "source": [
    "def removeProfix_b(sen):\n",
    "    theSentence = re.sub(r'^b\\s+', '',sen)\n",
    "    return theSentence"
   ]
  },
  {
   "cell_type": "code",
   "execution_count": 6,
   "metadata": {},
   "outputs": [],
   "source": [
    "def convertToLowecase(sen):\n",
    "    theSentence = sen.lower()\n",
    "    return theSentence"
   ]
  },
  {
   "cell_type": "code",
   "execution_count": 7,
   "metadata": {},
   "outputs": [],
   "source": [
    "def lemmatization(sen):\n",
    "    stemmer = WordNetLemmatizer()\n",
    "    theSentence = sen.split()\n",
    "    theSentence = [stemmer.lemmatize(word) for word in theSentence]\n",
    "    theSentence = ' '.join(theSentence)\n",
    "    return theSentence"
   ]
  },
  {
   "cell_type": "code",
   "execution_count": 8,
   "metadata": {},
   "outputs": [],
   "source": [
    "def cleanTheSentence(sen):\n",
    "    theSentence = removeSpecialChars(sen)\n",
    "    theSentence = removeSpecialChars(theSentence)\n",
    "    theSentence = substitutingSpaces(theSentence)\n",
    "    theSentence = removeProfix_b(theSentence)\n",
    "    theSentence = convertToLowecase(theSentence)\n",
    "    theSentence = lemmatization(theSentence)\n",
    "\n",
    "    return theSentence"
   ]
  },
  {
   "cell_type": "code",
   "execution_count": 9,
   "metadata": {},
   "outputs": [],
   "source": [
    "def loadDataFile(filename):\n",
    "    # open the file as read only\n",
    "    file = open(filename, 'r')\n",
    "    # read all text\n",
    "    text = file.read()\n",
    "    # close the file\n",
    "    file.close()\n",
    "    return text"
   ]
  },
  {
   "cell_type": "markdown",
   "metadata": {},
   "source": [
    "## Loading data and see text before and after cleaning"
   ]
  },
  {
   "cell_type": "code",
   "execution_count": 10,
   "metadata": {},
   "outputs": [
    {
     "name": "stdout",
     "output_type": "stream",
     "text": [
      "b\"arnold schwarzenegger has been an icon for action enthusiasts , since the late 80's , but lately his films have been very sloppy and the one-liners are getting worse . \\r\\nit's hard seeing arnold as mr . freeze in batman and robin , especially when he says tons of ice jokes , but hey he got 15 million , what's it matter to him ? \\r\\nonce again arnold has signed to do another expensive blockbuster , that can't compare with the likes of the terminator series , true lies and even eraser . \\r\\nin this so called dark thriller , the devil ( gabriel byrne ) has come upon earth , to impregnate a woman ( robin tunney ) which happens every 1000 years , and basically destroy the world , but apparently god has chosen one man , and that one man is jericho cane ( arnold himself ) . \\r\\nwith the help of a trusty sidekick ( kevin pollack ) , they will stop at nothing to let the devil take over the world ! \\r\\nparts of this are actually so absurd , that they would fit right in with dogma . \\r\\nyes , the film is that weak , but it's better than the other blockbuster right now ( sleepy hollow ) , but it makes the world is not enough look like a 4 star film . \\r\\nanyway , this definitely doesn't seem like an arnold movie . \\r\\nit just wasn't the type of film you can see him doing . \\r\\nsure he gave us a few chuckles with his well known one-liners , but he seemed confused as to where his character and the film was going . \\r\\nit's understandable , especially when the ending had to be changed according to some sources . \\r\\naside form that , he still walked through it , much like he has in the past few films . \\r\\ni'm sorry to say this arnold but maybe these are the end of your action days . \\r\\nspeaking of action , where was it in this film ? \\r\\nthere was hardly any explosions or fights . \\r\\nthe devil made a few places explode , but arnold wasn't kicking some devil butt . \\r\\nthe ending was changed to make it more spiritual , which undoubtedly ruined the film . \\r\\ni was at least hoping for a cool ending if nothing else occurred , but once again i was let down . \\r\\ni also don't know why the film took so long and cost so much . \\r\\nthere was really no super affects at all , unless you consider an invisible devil , who was in it for 5 minutes tops , worth the overpriced budget . \\r\\nthe budget should have gone into a better script , where at least audiences could be somewhat entertained instead of facing boredom . \\r\\nit's pitiful to see how scripts like these get bought and made into a movie . \\r\\ndo they even read these things anymore ? \\r\\nit sure doesn't seem like it . \\r\\nthankfully gabriel's performance gave some light to this poor film . \\r\\nwhen he walks down the street searching for robin tunney , you can't help but feel that he looked like a devil . \\r\\nthe guy is creepy looking anyway ! \\r\\nwhen it's all over , you're just glad it's the end of the movie . \\r\\ndon't bother to see this , if you're expecting a solid action flick , because it's neither solid nor does it have action . \\r\\nit's just another movie that we are suckered in to seeing , due to a strategic marketing campaign . \\r\\nsave your money and see the world is not enough for an entertaining experience . \\r\\n\" 0\n"
     ]
    }
   ],
   "source": [
    "movie_data = load_files(\"txt_sentoken\")\n",
    "X, y = movie_data.data, movie_data.target\n",
    "print(X[0],y[0])"
   ]
  },
  {
   "cell_type": "code",
   "execution_count": 11,
   "metadata": {},
   "outputs": [
    {
     "name": "stdout",
     "output_type": "stream",
     "text": [
      "arnold schwarzenegger ha been an icon for action enthusiast since the late 80 s but lately his film have been very sloppy and the one liner are getting worse r nit s hard seeing arnold a mr freeze in batman and robin especially when he say ton of ice joke but hey he got 15 million what s it matter to him r nonce again arnold ha signed to do another expensive blockbuster that can t compare with the like of the terminator series true lie and even eraser r nin this so called dark thriller the devil gabriel byrne ha come upon earth to impregnate a woman robin tunney which happens every 1000 year and basically destroy the world but apparently god ha chosen one man and that one man is jericho cane arnold himself r nwith the help of a trusty sidekick kevin pollack they will stop at nothing to let the devil take over the world r nparts of this are actually so absurd that they would fit right in with dogma r nyes the film is that weak but it s better than the other blockbuster right now sleepy hollow but it make the world is not enough look like a 4 star film r nanyway this definitely doesn t seem like an arnold movie r nit just wasn t the type of film you can see him doing r nsure he gave u a few chuckle with his well known one liner but he seemed confused a to where his character and the film wa going r nit s understandable especially when the ending had to be changed according to some source r naside form that he still walked through it much like he ha in the past few film r ni m sorry to say this arnold but maybe these are the end of your action day r nspeaking of action where wa it in this film r nthere wa hardly any explosion or fight r nthe devil made a few place explode but arnold wasn t kicking some devil butt r nthe ending wa changed to make it more spiritual which undoubtedly ruined the film r ni wa at least hoping for a cool ending if nothing else occurred but once again i wa let down r ni also don t know why the film took so long and cost so much r nthere wa really no super affect at all unless you consider an invisible devil who wa in it for 5 minute top worth the overpriced budget r nthe budget should have gone into a better script where at least audience could be somewhat entertained instead of facing boredom r nit s pitiful to see how script like these get bought and made into a movie r ndo they even read these thing anymore r nit sure doesn t seem like it r nthankfully gabriel s performance gave some light to this poor film r nwhen he walk down the street searching for robin tunney you can t help but feel that he looked like a devil r nthe guy is creepy looking anyway r nwhen it s all over you re just glad it s the end of the movie r ndon t bother to see this if you re expecting a solid action flick because it s neither solid nor doe it have action r nit s just another movie that we are suckered in to seeing due to a strategic marketing campaign r nsave your money and see the world is not enough for an entertaining experience r n Target : 0\n"
     ]
    }
   ],
   "source": [
    "documents = []\n",
    "\n",
    "for sen in range(0, len(X)):\n",
    "    CleanSentence = cleanTheSentence(X[sen])\n",
    "    documents.append(CleanSentence)\n",
    "print(documents[0],\"Target : \"+str(y[0]))"
   ]
  },
  {
   "cell_type": "code",
   "execution_count": 12,
   "metadata": {},
   "outputs": [
    {
     "data": {
      "text/html": [
       "<div>\n",
       "<style scoped>\n",
       "    .dataframe tbody tr th:only-of-type {\n",
       "        vertical-align: middle;\n",
       "    }\n",
       "\n",
       "    .dataframe tbody tr th {\n",
       "        vertical-align: top;\n",
       "    }\n",
       "\n",
       "    .dataframe thead th {\n",
       "        text-align: right;\n",
       "    }\n",
       "</style>\n",
       "<table border=\"1\" class=\"dataframe\">\n",
       "  <thead>\n",
       "    <tr style=\"text-align: right;\">\n",
       "      <th></th>\n",
       "      <th>review</th>\n",
       "      <th>class</th>\n",
       "    </tr>\n",
       "  </thead>\n",
       "  <tbody>\n",
       "    <tr>\n",
       "      <th>0</th>\n",
       "      <td>arnold schwarzenegger ha been an icon for acti...</td>\n",
       "      <td>0</td>\n",
       "    </tr>\n",
       "    <tr>\n",
       "      <th>1</th>\n",
       "      <td>good film are hard to find these day r ngreat ...</td>\n",
       "      <td>1</td>\n",
       "    </tr>\n",
       "    <tr>\n",
       "      <th>2</th>\n",
       "      <td>quaid star a a man who ha taken up the proffes...</td>\n",
       "      <td>1</td>\n",
       "    </tr>\n",
       "    <tr>\n",
       "      <th>3</th>\n",
       "      <td>we could paraphrase michelle pfieffer s charac...</td>\n",
       "      <td>0</td>\n",
       "    </tr>\n",
       "    <tr>\n",
       "      <th>4</th>\n",
       "      <td>kolya is one of the richest film i ve seen in ...</td>\n",
       "      <td>1</td>\n",
       "    </tr>\n",
       "  </tbody>\n",
       "</table>\n",
       "</div>"
      ],
      "text/plain": [
       "                                              review  class\n",
       "0  arnold schwarzenegger ha been an icon for acti...      0\n",
       "1  good film are hard to find these day r ngreat ...      1\n",
       "2  quaid star a a man who ha taken up the proffes...      1\n",
       "3  we could paraphrase michelle pfieffer s charac...      0\n",
       "4  kolya is one of the richest film i ve seen in ...      1"
      ]
     },
     "execution_count": 12,
     "metadata": {},
     "output_type": "execute_result"
    }
   ],
   "source": [
    "df = pd.DataFrame({'review':documents,'class':y})\n",
    "df.head()"
   ]
  },
  {
   "cell_type": "code",
   "execution_count": 13,
   "metadata": {},
   "outputs": [
    {
     "name": "stdout",
     "output_type": "stream",
     "text": [
      "<class 'pandas.core.frame.DataFrame'>\n",
      "RangeIndex: 2000 entries, 0 to 1999\n",
      "Data columns (total 2 columns):\n",
      " #   Column  Non-Null Count  Dtype \n",
      "---  ------  --------------  ----- \n",
      " 0   review  2000 non-null   object\n",
      " 1   class   2000 non-null   int32 \n",
      "dtypes: int32(1), object(1)\n",
      "memory usage: 23.6+ KB\n"
     ]
    }
   ],
   "source": [
    "df.info()"
   ]
  },
  {
   "cell_type": "markdown",
   "metadata": {},
   "source": [
    "Data set have no null values"
   ]
  },
  {
   "cell_type": "code",
   "execution_count": 14,
   "metadata": {},
   "outputs": [
    {
     "data": {
      "image/png": "[encoded data removed]",
      "text/plain": [
       "<Figure size 720x576 with 1 Axes>"
      ]
     },
     "metadata": {
      "needs_background": "light"
     },
     "output_type": "display_data"
    }
   ],
   "source": [
    "# Representation of both classes\n",
    "plt.figure(figsize=figSize)\n",
    "ax = sns.countplot(x='class', data=df)\n",
    "plt.title('Count of reviews per class')\n",
    "plt.xlabel('Class')\n",
    "plt.ylabel('Count of reviews')\n",
    "\n",
    "for p in ax.patches:\n",
    "        ax.annotate('%{:.1f}'.format(p.get_height()/df.shape[0]*100), (p.get_x()+0.2, p.get_height()-100),fontsize = 25)"
   ]
  },
  {
   "cell_type": "markdown",
   "metadata": {},
   "source": [
    "Both classes are reperesented equally"
   ]
  },
  {
   "cell_type": "code",
   "execution_count": 15,
   "metadata": {},
   "outputs": [
    {
     "data": {
      "image/png": "[encoded data removed]",
      "text/plain": [
       "<Figure size 720x576 with 1 Axes>"
      ]
     },
     "metadata": {
      "needs_background": "light"
     },
     "output_type": "display_data"
    }
   ],
   "source": [
    "plt.figure(figsize = figSize)\n",
    "plt.hist(df['review'].str.len(),bins=50);\n",
    "plt.xlabel('Number of characters per review')\n",
    "plt.title('Count of Characters histogram')\n",
    "plt.ylabel('Frequency')\n",
    "plt.axvline(df['review'].str.len().mean(), color='k', linestyle='dashed', linewidth=1)\n",
    "min_ylim, max_ylim = plt.ylim()\n",
    "plt.text(df['review'].str.len().mean()*1.1, max_ylim*0.9, 'Mean: {:.2f}'.format(df['review'].str.len().mean()))\n",
    "plt.show();"
   ]
  },
  {
   "cell_type": "markdown",
   "metadata": {},
   "source": [
    "Number of characters per review are positively skewed with mean of ~ 3700 character per review."
   ]
  },
  {
   "cell_type": "code",
   "execution_count": 16,
   "metadata": {},
   "outputs": [
    {
     "data": {
      "image/png": "[encoded data removed]",
      "text/plain": [
       "<Figure size 720x576 with 1 Axes>"
      ]
     },
     "metadata": {
      "needs_background": "light"
     },
     "output_type": "display_data"
    }
   ],
   "source": [
    "plt.figure(figsize = figSize)\n",
    "plt.hist(df['review'].apply(lambda x:len(x.split())),bins = 25);\n",
    "plt.xlabel('Count of words per review')\n",
    "plt.title('Lenghth of words histogram')\n",
    "plt.ylabel('Frequency')\n",
    "plt.axvline(df['review'].apply(lambda x:len(x.split())).mean(), color='k', linestyle='dashed', linewidth=1)\n",
    "min_ylim, max_ylim = plt.ylim()\n",
    "plt.text(df['review'].apply(lambda x:len(x.split())).mean()*1.1, max_ylim*0.9, 'Mean: {:.2f}'.format(df['review'].apply(lambda x:len(x.split())).mean()))\n",
    "plt.show();"
   ]
  },
  {
   "cell_type": "markdown",
   "metadata": {},
   "source": [
    "Number of words per review is positively skewed with mean of ~ 708 words per review."
   ]
  },
  {
   "cell_type": "markdown",
   "metadata": {},
   "source": [
    "## Most frequent stop words in reviews "
   ]
  },
  {
   "cell_type": "code",
   "execution_count": 17,
   "metadata": {},
   "outputs": [],
   "source": [
    "stop = set(stopwords.words('english'))\n",
    "reviews = df['review'].str.split()\n",
    "from collections import defaultdict\n",
    "dic = defaultdict(int)\n",
    "for review in reviews:\n",
    "    for word in review:\n",
    "        if word in stop:\n",
    "            dic[word]+=1\n",
    "dic = sorted(dic.items(),key=lambda item: item[1],reverse=True)[0:10]\n"
   ]
  },
  {
   "cell_type": "code",
   "execution_count": 18,
   "metadata": {},
   "outputs": [
    {
     "data": {
      "image/png": "[encoded data removed]",
      "text/plain": [
       "<Figure size 720x576 with 1 Axes>"
      ]
     },
     "metadata": {
      "needs_background": "light"
     },
     "output_type": "display_data"
    }
   ],
   "source": [
    "plt.figure(figsize = figSize)\n",
    "plt.bar(x=[x[0] for x in dic],height = [y[1] for y in dic])\n",
    "plt.show();"
   ]
  },
  {
   "cell_type": "markdown",
   "metadata": {},
   "source": [
    "## Most frequent non-stop words in reviews "
   ]
  },
  {
   "cell_type": "code",
   "execution_count": 19,
   "metadata": {},
   "outputs": [
    {
     "data": {
      "text/plain": [
       "[('film', 11031),\n",
       " ('nthe', 7810),\n",
       " ('movie', 6943),\n",
       " ('one', 5548),\n",
       " ('wa', 4909),\n",
       " ('ha', 4743),\n",
       " ('character', 3858),\n",
       " ('like', 3633),\n",
       " ('nit', 3096),\n",
       " ('time', 2969)]"
      ]
     },
     "execution_count": 19,
     "metadata": {},
     "output_type": "execute_result"
    }
   ],
   "source": [
    "stop = set(stopwords.words('english'))\n",
    "reviews = df['review'].str.split()\n",
    "from collections import defaultdict\n",
    "dic = defaultdict(int)\n",
    "for review in reviews:\n",
    "    for word in review:\n",
    "        if word not in stop and word != 'n' and word !='r': # ns and rs are spaces so i didn't count them\n",
    "            dic[word]+=1\n",
    "dic2 = sorted(dic.items(),key=lambda item: item[1],reverse=True)[0:10]\n",
    "dic2"
   ]
  },
  {
   "cell_type": "code",
   "execution_count": 20,
   "metadata": {},
   "outputs": [
    {
     "data": {
      "image/png": "[encoded data removed]",
      "text/plain": [
       "<Figure size 720x576 with 1 Axes>"
      ]
     },
     "metadata": {
      "needs_background": "light"
     },
     "output_type": "display_data"
    }
   ],
   "source": [
    "plt.figure(figsize = figSize)\n",
    "plt.bar(x=[x[0] for x in dic2],height = [y[1] for y in dic2])\n",
    "plt.show();"
   ]
  },
  {
   "cell_type": "code",
   "execution_count": 21,
   "metadata": {},
   "outputs": [],
   "source": [
    "# vectorize reviews with Tf-df vectorizer to perepare them for classification\n",
    "tfidfconverter = TfidfVectorizer(max_features=1500, min_df=5, max_df=0.7, stop_words=stopwords.words('english'))\n",
    "X = tfidfconverter.fit_transform(documents).toarray()"
   ]
  },
  {
   "cell_type": "markdown",
   "metadata": {},
   "source": [
    "## Classification with RandomForest classifier"
   ]
  },
  {
   "cell_type": "code",
   "execution_count": 22,
   "metadata": {},
   "outputs": [],
   "source": [
    "X_train, X_test, y_train, y_test = train_test_split(X, y, test_size=0.2, random_state=0)"
   ]
  },
  {
   "cell_type": "code",
   "execution_count": 23,
   "metadata": {},
   "outputs": [
    {
     "name": "stdout",
     "output_type": "stream",
     "text": [
      "classification_report                precision    recall  f1-score   support\n",
      "\n",
      "    negative       0.86      0.87      0.86       208\n",
      "    positive       0.85      0.84      0.85       192\n",
      "\n",
      "    accuracy                           0.85       400\n",
      "   macro avg       0.85      0.85      0.85       400\n",
      "weighted avg       0.85      0.85      0.85       400\n",
      "\n"
     ]
    }
   ],
   "source": [
    "clf = RandomForestClassifier(n_estimators=1000, random_state=0)\n",
    "clf.fit(X_train, y_train)\n",
    "\n",
    "y_pred = clf.predict(X_test)\n",
    "\n",
    "print(\"classification_report \",classification_report(y_test, y_pred,target_names = ['negative','positive']))"
   ]
  },
  {
   "cell_type": "code",
   "execution_count": 24,
   "metadata": {},
   "outputs": [
    {
     "name": "stdout",
     "output_type": "stream",
     "text": [
      "accuracy =  0.855\n"
     ]
    }
   ],
   "source": [
    "print(\"accuracy = \",accuracy_score(y_test, y_pred))"
   ]
  },
  {
   "cell_type": "code",
   "execution_count": 25,
   "metadata": {},
   "outputs": [
    {
     "name": "stdout",
     "output_type": "stream",
     "text": [
      "confusion_matrix  [[180  28]\n",
      " [ 30 162]]\n"
     ]
    }
   ],
   "source": [
    "print(\"confusion_matrix \",  confusion_matrix(y_test,y_pred))"
   ]
  },
  {
   "cell_type": "code",
   "execution_count": 26,
   "metadata": {},
   "outputs": [
    {
     "name": "stdout",
     "output_type": "stream",
     "text": [
      "enter path of new input\n",
      "Input.txt\n",
      "input classified as  1\n"
     ]
    }
   ],
   "source": [
    "print('enter path of new input') #Input.txt\n",
    "s = input()\n",
    "Inp = loadDataFile(s)\n",
    "Inp = [cleanTheSentence(Inp)]\n",
    "Inp = tfidfconverter.transform(Inp)\n",
    "print(\"input classified as \",clf.predict(Inp)[0])"
   ]
  },
  {
   "cell_type": "markdown",
   "metadata": {},
   "source": [
    "## Classification with LogisticRegression classifier\n"
   ]
  },
  {
   "cell_type": "code",
   "execution_count": 27,
   "metadata": {},
   "outputs": [
    {
     "name": "stdout",
     "output_type": "stream",
     "text": [
      "classification_report                precision    recall  f1-score   support\n",
      "\n",
      "    negative       0.86      0.81      0.83       208\n",
      "    positive       0.80      0.85      0.83       192\n",
      "\n",
      "    accuracy                           0.83       400\n",
      "   macro avg       0.83      0.83      0.83       400\n",
      "weighted avg       0.83      0.83      0.83       400\n",
      "\n"
     ]
    }
   ],
   "source": [
    "clf = LogisticRegression()\n",
    "clf.fit(X_train,y_train)\n",
    "y_pred = clf.predict(X_test)\n",
    "print(\"classification_report \",classification_report(y_test, y_pred,target_names = ['negative','positive']))\n"
   ]
  },
  {
   "cell_type": "code",
   "execution_count": 28,
   "metadata": {},
   "outputs": [
    {
     "name": "stdout",
     "output_type": "stream",
     "text": [
      "accuracy =  0.83\n"
     ]
    }
   ],
   "source": [
    "print(\"accuracy = \",accuracy_score(y_test, y_pred))"
   ]
  },
  {
   "cell_type": "code",
   "execution_count": 29,
   "metadata": {},
   "outputs": [
    {
     "name": "stdout",
     "output_type": "stream",
     "text": [
      "confusion_matrix  [[168  40]\n",
      " [ 28 164]]\n"
     ]
    }
   ],
   "source": [
    "print(\"confusion_matrix \",  confusion_matrix(y_test,y_pred))"
   ]
  },
  {
   "cell_type": "code",
   "execution_count": 30,
   "metadata": {},
   "outputs": [
    {
     "name": "stdout",
     "output_type": "stream",
     "text": [
      "enter path of new input\n",
      "Input.txt\n",
      "input classified as  1\n"
     ]
    }
   ],
   "source": [
    "print('enter path of new input') #Input.txt\n",
    "s = input()\n",
    "Inp = loadDataFile(s)\n",
    "Inp = [cleanTheSentence(Inp)]\n",
    "Inp = tfidfconverter.transform(Inp)\n",
    "print(\"input classified as \",clf.predict(Inp)[0])"
   ]
  },
  {
   "cell_type": "markdown",
   "metadata": {},
   "source": [
    "Both classifiers were able to classify input review correctly but random forrest was better to generalize."
   ]
  },
  {
   "cell_type": "code",
   "execution_count": null,
   "metadata": {},
   "outputs": [],
   "source": []
  }
 ],
 "metadata": {
  "kernelspec": {
   "display_name": "Python 3",
   "language": "python",
   "name": "python3"
  },
  "language_info": {
   "codemirror_mode": {
    "name": "ipython",
    "version": 3
   },
   "file_extension": ".py",
   "mimetype": "text/x-python",
   "name": "python",
   "nbconvert_exporter": "python",
   "pygments_lexer": "ipython3",
   "version": "3.8.5"
  }
 },
 "nbformat": 4,
 "nbformat_minor": 4
}
